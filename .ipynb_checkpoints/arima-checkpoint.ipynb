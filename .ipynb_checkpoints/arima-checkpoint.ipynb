{
 "metadata": {
  "name": "",
  "signature": "sha256:dada586dae092a451dbd197c879e817e4bd5406a543363035cbafcc77bd7814d"
 },
 "nbformat": 3,
 "nbformat_minor": 0,
 "worksheets": [
  {
   "cells": [
    {
     "cell_type": "code",
     "collapsed": false,
     "input": [
      "import pandas as pd\n",
      "import numpy as np\n",
      "import matplotlib.pyplot as plt\n",
      "import statsmodels.api as sm\n",
      "import statsmodels.formula.api as smf\n",
      "from datetime import date\n"
     ],
     "language": "python",
     "metadata": {},
     "outputs": [],
     "prompt_number": 159
    },
    {
     "cell_type": "code",
     "collapsed": false,
     "input": [
      "loansData1 = pd.read_csv('../stats/loanStats3b.csv', header=1, low_memory=False)"
     ],
     "language": "python",
     "metadata": {},
     "outputs": [],
     "prompt_number": 160
    },
    {
     "cell_type": "code",
     "collapsed": false,
     "input": [
      "loansData1.dropna(inplace=True)\n",
      "loansData1.head()\n",
      "loansData1['issue_d'].head()"
     ],
     "language": "python",
     "metadata": {},
     "outputs": [
      {
       "metadata": {},
       "output_type": "pyout",
       "prompt_number": 161,
       "text": [
        "60     Dec-2013\n",
        "68     Dec-2013\n",
        "125    Dec-2013\n",
        "127    Dec-2013\n",
        "151    Dec-2013\n",
        "Name: issue_d, dtype: object"
       ]
      }
     ],
     "prompt_number": 161
    },
    {
     "cell_type": "raw",
     "metadata": {},
     "source": [
      "# converts string to datetime object in pandas:"
     ]
    },
    {
     "cell_type": "code",
     "collapsed": false,
     "input": [
      "loansData1['issue_d_format'] = pd.to_datetime(loansData1['issue_d'])\n",
      "dfts = loansData1.set_index('issue_d_format') \n",
      "year_month_summary = dfts.groupby(lambda x : x.year * 100 + x.month).count()\n",
      "loan_count_summary = year_month_summary['issue_d']"
     ],
     "language": "python",
     "metadata": {},
     "outputs": [],
     "prompt_number": 162
    },
    {
     "cell_type": "code",
     "collapsed": false,
     "input": [
      "loan_count_summary.plot()\n",
      "\n",
      "#I dont like the way this is graphing and want to see dates on the axis\n",
      "from dateutil import parser\n",
      "g= lambda x : str(x)+\"01\"\n",
      "\n",
      "loan_count_summary_datetime = pd.to_datetime(map(g,loan_count_summary.index))\n",
      "loan_count_ts = pd.DataFrame(zip(loan_count_summary_datetime, loan_count_summary.values))\n",
      "loan_count_timeseries = loan_count_ts.set_index(loan_count_ts[0])\n",
      "del loan_count_timeseries[0]\n",
      "\n",
      "#However surely there is a better way of manipulating data in pandas than the above?\n",
      "loan_count_timeseries.plot()"
     ],
     "language": "python",
     "metadata": {},
     "outputs": [
      {
       "metadata": {},
       "output_type": "pyout",
       "prompt_number": 163,
       "text": [
        "<matplotlib.axes._subplots.AxesSubplot at 0x1220adb10>"
       ]
      },
      {
       "metadata": {},
       "output_type": "display_data",
       "png": "[encoded data removed]",
       "text": [
        "<matplotlib.figure.Figure at 0x12202c890>"
       ]
      },
      {
       "metadata": {},
       "output_type": "display_data",
       "png": "[encoded data removed]",
       "text": [
        "<matplotlib.figure.Figure at 0x1220b40d0>"
       ]
      }
     ],
     "prompt_number": 163
    },
    {
     "cell_type": "code",
     "collapsed": false,
     "input": [
      "#loan count time series is clearly not stationary - so attempt to make it so, perhaps an OLS regression\n"
     ],
     "language": "python",
     "metadata": {},
     "outputs": [],
     "prompt_number": 164
    },
    {
     "cell_type": "code",
     "collapsed": false,
     "input": [
      "loan_count_timeseries.columns = ['Count']"
     ],
     "language": "python",
     "metadata": {},
     "outputs": [],
     "prompt_number": 165
    },
    {
     "cell_type": "code",
     "collapsed": false,
     "input": [
      "print loan_count_timeseries[:]"
     ],
     "language": "python",
     "metadata": {},
     "outputs": [
      {
       "output_type": "stream",
       "stream": "stdout",
       "text": [
        "            Count\n",
        "0                \n",
        "2012-08-01      2\n",
        "2012-09-01      8\n",
        "2012-10-01      1\n",
        "2012-11-01      7\n",
        "2012-12-01     16\n",
        "2013-01-01     80\n",
        "2013-02-01     24\n",
        "2013-03-01     14\n",
        "2013-04-01     40\n",
        "2013-05-01     63\n",
        "2013-06-01     46\n",
        "2013-07-01     57\n",
        "2013-08-01     66\n",
        "2013-09-01     75\n",
        "2013-10-01     68\n",
        "2013-11-01     91\n",
        "2013-12-01    113\n"
       ]
      }
     ],
     "prompt_number": 166
    },
    {
     "cell_type": "code",
     "collapsed": false,
     "input": [
      "print loan_count_summary"
     ],
     "language": "python",
     "metadata": {},
     "outputs": [
      {
       "output_type": "stream",
       "stream": "stdout",
       "text": [
        "201208      2\n",
        "201209      8\n",
        "201210      1\n",
        "201211      7\n",
        "201212     16\n",
        "201301     80\n",
        "201302     24\n",
        "201303     14\n",
        "201304     40\n",
        "201305     63\n",
        "201306     46\n",
        "201307     57\n",
        "201308     66\n",
        "201309     75\n",
        "201310     68\n",
        "201311     91\n",
        "201312    113\n",
        "Name: issue_d, dtype: int64\n"
       ]
      }
     ],
     "prompt_number": 167
    },
    {
     "cell_type": "code",
     "collapsed": false,
     "input": [
      " df = loan_count_timeseries.reset_index()  \n",
      "df.columns=['Date','Count']\n",
      "df\n",
      "\n",
      "print type(df['Count'])\n",
      "print type(df['Date'])\n",
      "\n",
      "df1 = loan_count_summary.reset_index()\n"
     ],
     "language": "python",
     "metadata": {},
     "outputs": [
      {
       "output_type": "stream",
       "stream": "stdout",
       "text": [
        "<class 'pandas.core.series.Series'>\n",
        "<class 'pandas.core.series.Series'>\n"
       ]
      }
     ],
     "prompt_number": 173
    },
    {
     "cell_type": "code",
     "collapsed": false,
     "input": [
      "print df1"
     ],
     "language": "python",
     "metadata": {},
     "outputs": [
      {
       "output_type": "stream",
       "stream": "stdout",
       "text": [
        "     index  issue_d\n",
        "0   201208        2\n",
        "1   201209        8\n",
        "2   201210        1\n",
        "3   201211        7\n",
        "4   201212       16\n",
        "5   201301       80\n",
        "6   201302       24\n",
        "7   201303       14\n",
        "8   201304       40\n",
        "9   201305       63\n",
        "10  201306       46\n",
        "11  201307       57\n",
        "12  201308       66\n",
        "13  201309       75\n",
        "14  201310       68\n",
        "15  201311       91\n",
        "16  201312      113\n"
       ]
      }
     ],
     "prompt_number": 174
    },
    {
     "cell_type": "code",
     "collapsed": false,
     "input": [
      "\n",
      "res = smf.ols(formula='Count ~ Date', data=df).fit()\n",
      "print res.params\n",
      "print res.summary()"
     ],
     "language": "python",
     "metadata": {},
     "outputs": [
      {
       "output_type": "stream",
       "stream": "stdout",
       "text": [
        "Intercept                                     2\n",
        "Date[T.Timestamp('2012-09-01 00:00:00')]      6\n",
        "Date[T.Timestamp('2012-10-01 00:00:00')]     -1\n",
        "Date[T.Timestamp('2012-11-01 00:00:00')]      5\n",
        "Date[T.Timestamp('2012-12-01 00:00:00')]     14\n",
        "Date[T.Timestamp('2013-01-01 00:00:00')]     78\n",
        "Date[T.Timestamp('2013-02-01 00:00:00')]     22\n",
        "Date[T.Timestamp('2013-03-01 00:00:00')]     12\n",
        "Date[T.Timestamp('2013-04-01 00:00:00')]     38\n",
        "Date[T.Timestamp('2013-05-01 00:00:00')]     61\n",
        "Date[T.Timestamp('2013-06-01 00:00:00')]     44\n",
        "Date[T.Timestamp('2013-07-01 00:00:00')]     55\n",
        "Date[T.Timestamp('2013-08-01 00:00:00')]     64\n",
        "Date[T.Timestamp('2013-09-01 00:00:00')]     73\n",
        "Date[T.Timestamp('2013-10-01 00:00:00')]     66\n",
        "Date[T.Timestamp('2013-11-01 00:00:00')]     89\n",
        "Date[T.Timestamp('2013-12-01 00:00:00')]    111\n",
        "dtype: float64\n",
        "                            OLS Regression Results                            \n",
        "==============================================================================\n",
        "Dep. Variable:                  Count   R-squared:                       1.000\n",
        "Model:                            OLS   Adj. R-squared:                    nan\n",
        "Method:                 Least Squares   F-statistic:                     0.000\n",
        "Date:                Sun, 22 Feb 2015   Prob (F-statistic):                nan\n",
        "Time:                        17:17:50   Log-Likelihood:                 502.22\n",
        "No. Observations:                  17   AIC:                            -970.4\n",
        "Df Residuals:                       0   BIC:                            -956.3\n",
        "Df Model:                          16                                         \n",
        "============================================================================================================\n",
        "                                               coef    std err          t      P>|t|      [95.0% Conf. Int.]\n",
        "------------------------------------------------------------------------------------------------------------\n",
        "Intercept                                    2.0000        inf          0        nan           nan       nan\n",
        "Date[T.Timestamp('2012-09-01 00:00:00')]     6.0000        inf          0        nan           nan       nan\n",
        "Date[T.Timestamp('2012-10-01 00:00:00')]    -1.0000        inf         -0        nan           nan       nan\n",
        "Date[T.Timestamp('2012-11-01 00:00:00')]     5.0000        inf          0        nan           nan       nan\n",
        "Date[T.Timestamp('2012-12-01 00:00:00')]    14.0000        inf          0        nan           nan       nan\n",
        "Date[T.Timestamp('2013-01-01 00:00:00')]    78.0000        inf          0        nan           nan       nan\n",
        "Date[T.Timestamp('2013-02-01 00:00:00')]    22.0000        inf          0        nan           nan       nan\n",
        "Date[T.Timestamp('2013-03-01 00:00:00')]    12.0000        inf          0        nan           nan       nan\n",
        "Date[T.Timestamp('2013-04-01 00:00:00')]    38.0000        inf          0        nan           nan       nan\n",
        "Date[T.Timestamp('2013-05-01 00:00:00')]    61.0000        inf          0        nan           nan       nan\n",
        "Date[T.Timestamp('2013-06-01 00:00:00')]    44.0000        inf          0        nan           nan       nan\n",
        "Date[T.Timestamp('2013-07-01 00:00:00')]    55.0000        inf          0        nan           nan       nan\n",
        "Date[T.Timestamp('2013-08-01 00:00:00')]    64.0000        inf          0        nan           nan       nan\n",
        "Date[T.Timestamp('2013-09-01 00:00:00')]    73.0000        inf          0        nan           nan       nan\n",
        "Date[T.Timestamp('2013-10-01 00:00:00')]    66.0000        inf          0        nan           nan       nan\n",
        "Date[T.Timestamp('2013-11-01 00:00:00')]    89.0000        inf          0        nan           nan       nan\n",
        "Date[T.Timestamp('2013-12-01 00:00:00')]   111.0000        inf          0        nan           nan       nan\n",
        "==============================================================================\n",
        "Omnibus:                        1.902   Durbin-Watson:                   0.639\n",
        "Prob(Omnibus):                  0.386   Jarque-Bera (JB):                0.686\n",
        "Skew:                          -0.468   Prob(JB):                        0.710\n",
        "Kurtosis:                       3.302   Cond. No.                         17.9\n",
        "=============================================================================="
       ]
      },
      {
       "output_type": "stream",
       "stream": "stdout",
       "text": [
        "\n"
       ]
      }
     ],
     "prompt_number": 172
    },
    {
     "cell_type": "code",
     "collapsed": false,
     "input": [
      "# the above is obviously rubbish but i am unsure as to what i am doing wrong after all the messing with data\n",
      "\n",
      "res1 = smf.ols(formula='issue_d ~ index', data=df1).fit()\n",
      "print res1.params\n",
      "print res1.summary()\n",
      "\n",
      "# this approach i also dont like as the time series are at equal intervals but if the regression treats as number\n",
      "# then this is clearly not the case - finding this awkward to manipulate - could do in 1 min in excel"
     ],
     "language": "python",
     "metadata": {},
     "outputs": [
      {
       "output_type": "stream",
       "stream": "stdout",
       "text": [
        "Intercept   -118200.557057\n",
        "index             0.587475\n",
        "dtype: float64\n",
        "                            OLS Regression Results                            \n",
        "==============================================================================\n",
        "Dep. Variable:                issue_d   R-squared:                       0.595\n",
        "Model:                            OLS   Adj. R-squared:                  0.568\n",
        "Method:                 Least Squares   F-statistic:                     21.99\n",
        "Date:                Sun, 22 Feb 2015   Prob (F-statistic):           0.000290\n",
        "Time:                        17:24:47   Log-Likelihood:                -76.185\n",
        "No. Observations:                  17   AIC:                             156.4\n",
        "Df Residuals:                      15   BIC:                             158.0\n",
        "Df Model:                           1                                         \n",
        "==============================================================================\n",
        "                 coef    std err          t      P>|t|      [95.0% Conf. Int.]\n",
        "------------------------------------------------------------------------------\n",
        "Intercept  -1.182e+05   2.52e+04     -4.688      0.000     -1.72e+05 -6.45e+04\n",
        "index          0.5875      0.125      4.690      0.000         0.320     0.854\n",
        "==============================================================================\n",
        "Omnibus:                        1.236   Durbin-Watson:                   0.819\n",
        "Prob(Omnibus):                  0.539   Jarque-Bera (JB):                0.153\n",
        "Skew:                          -0.091   Prob(JB):                        0.926\n",
        "Kurtosis:                       3.428   Cond. No.                     9.19e+08\n",
        "==============================================================================\n",
        "\n",
        "Warnings:\n",
        "[1] The condition number is large, 9.19e+08. This might indicate that there are\n",
        "strong multicollinearity or other numerical problems.\n"
       ]
      }
     ],
     "prompt_number": 176
    },
    {
     "cell_type": "code",
     "collapsed": false,
     "input": [
      "# so both the regressions i have done arent right, i am struggling to manipulate things in pandas and also formats\n",
      "# such as dates - the OLS is obviously garbage in garbage out\n",
      "# the idea would be to take the regression dift off the time series and create a stationary series then do autocorr tests\n",
      "# so the following will now be flawed given the OLS didnt work - so just working on raw unadjusted data\n",
      "\n",
      "\n",
      "acf = sm.graphics.tsa.plot_acf(loan_count_summary)\n",
      "pacf = sm.graphics.tsa.plot_pacf(loan_count_summary)"
     ],
     "language": "python",
     "metadata": {},
     "outputs": [
      {
       "metadata": {},
       "output_type": "display_data",
       "png": "[encoded data removed]",
       "text": [
        "<matplotlib.figure.Figure at 0x1164f5a50>"
       ]
      },
      {
       "metadata": {},
       "output_type": "display_data",
       "png": "[encoded data removed]",
       "text": [
        "<matplotlib.figure.Figure at 0x1164f5a10>"
       ]
      }
     ],
     "prompt_number": 188
    },
    {
     "cell_type": "code",
     "collapsed": false,
     "input": [
      "acf1 = sm.graphics.tsa.plot_acf(loan_count_timeseries)\n",
      "pacf1 = sm.graphics.tsa.plot_pacf(loan_count_timeseries)"
     ],
     "language": "python",
     "metadata": {},
     "outputs": [
      {
       "metadata": {},
       "output_type": "display_data",
       "png": "[encoded data removed]",
       "text": [
        "<matplotlib.figure.Figure at 0x12114d090>"
       ]
      },
      {
       "metadata": {},
       "output_type": "display_data",
       "png": "[encoded data removed]",
       "text": [
        "<matplotlib.figure.Figure at 0x12117bf90>"
       ]
      }
     ],
     "prompt_number": 189
    },
    {
     "cell_type": "code",
     "collapsed": false,
     "input": [],
     "language": "python",
     "metadata": {},
     "outputs": [],
     "prompt_number": 189
    },
    {
     "cell_type": "code",
     "collapsed": false,
     "input": [],
     "language": "python",
     "metadata": {},
     "outputs": [],
     "prompt_number": 189
    },
    {
     "cell_type": "code",
     "collapsed": false,
     "input": [],
     "language": "python",
     "metadata": {},
     "outputs": []
    }
   ],
   "metadata": {}
  }
 ]
}